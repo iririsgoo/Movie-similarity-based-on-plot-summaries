{
 "cells": [
  {
   "cell_type": "markdown",
   "metadata": {},
   "source": [
    "### import packages"
   ]
  },
  {
   "cell_type": "code",
   "execution_count": null,
   "metadata": {},
   "outputs": [],
   "source": [
    "import re\n",
    "import requests\n",
    "import time\n",
    "import csv\n",
    "from bs4 import BeautifulSoup\n",
    "from requests.exceptions import RequestException"
   ]
  },
  {
   "cell_type": "markdown",
   "metadata": {},
   "source": [
    "### Generate the url that we can get a list of movies\n",
    "\n",
    "Recent 10 years: From 2009-01-01 to 2019-10-31"
   ]
  },
  {
   "cell_type": "code",
   "execution_count": null,
   "metadata": {},
   "outputs": [],
   "source": [
    "def generate_movie_list_link(i):\n",
    "    movie_list_url = \"https://www.imdb.com/search/title/?title_type=tv_movie&release_date=2009-01-01,2019-10-31&sort=num_votes,desc&start=\"+str((i-1)*50+1)+\"&ref_=adv_nxt\"\n",
    "    return  movie_list_url"
   ]
  },
  {
   "cell_type": "markdown",
   "metadata": {},
   "source": [
    "### Get the id of each movie in the list"
   ]
  },
  {
   "cell_type": "code",
   "execution_count": null,
   "metadata": {},
   "outputs": [],
   "source": [
    "def get_movie_id(url):\n",
    "    try:\n",
    "        response = requests.get(url)\n",
    "        if response.status_code == 200:\n",
    "            html = response.text\n",
    "            soup = BeautifulSoup(html,'html.parser')\n",
    "            movies = soup.select('.lister-item-content')\n",
    "            movie_id_list = [[0] * 1 for j in range(50)]\n",
    "            i = 0\n",
    "            for movie in movies:\n",
    "                header = movie.select_one('.lister-item-header')\n",
    "                movie_link = header.select_one('a')['href']                     \n",
    "                id_pattern = re.compile(r'(?<=tt)\\d+(?=/?)')\n",
    "                movie_id = int(id_pattern.search(movie_link).group())           #imdb id\n",
    "                \n",
    "                movie_id_list[i] = movie_id\n",
    "                \n",
    "                i += 1\n",
    "                \n",
    "                #print(i,movie_id,movie_reviews_url)\n",
    "                #time.sleep(1)\n",
    "            return movie_id_list\n",
    "        else:\n",
    "            print(\"Error when request URL\")\n",
    "    except RequestException:\n",
    "        print(\"Request Failed\")\n",
    "        return None"
   ]
  },
  {
   "cell_type": "markdown",
   "metadata": {},
   "source": [
    "### Get information for each movie"
   ]
  },
  {
   "cell_type": "code",
   "execution_count": null,
   "metadata": {},
   "outputs": [],
   "source": [
    "from imdb import IMDb\n",
    "def get_movie_info(movie_id):\n",
    "    # create an instance of the IMDb class\n",
    "    ia = IMDb()\n",
    "    # get a movie\n",
    "    movie = ia.get_movie(movie_id)\n",
    "    movie_key_words = ia.get_movie(movie_id, info = 'keywords')\n",
    "    try:\n",
    "        # get the names of the movie\n",
    "        title = [movie['title']]\n",
    "        if title == []:\n",
    "            title = [\"NA\"]      \n",
    "        # get the release year of the movie\n",
    "        release_year = [movie['year']]\n",
    "        if release_year == []:\n",
    "            release_year = [\"NA\"]\n",
    "        # get the genres of the movie\n",
    "        genre = [\"|\".join([genres for genres in movie['genres']])]\n",
    "        if genre == []:\n",
    "            genre = [\"NA\"]     \n",
    "        # get the key words of the movie\n",
    "        key_words = [\"|\".join([key_word for key_word in movie_key_words['keywords']])]\n",
    "        if key_words == []:\n",
    "            key_words = [\"NA\"]\n",
    "        # get the plot of the movie\n",
    "        plot = [plot.split(\"::\", 1)[0] for plot in movie.get('plot')]\n",
    "        plot = [plot[0]]\n",
    "        if plot == []:\n",
    "            plot = [\"NA\"]\n",
    "        # get the run time of the movie\n",
    "        runtime = movie['runtimes']\n",
    "        if runtime == []:\n",
    "            runtime = [\"NA\"]\n",
    "        # get the votes of the movie\n",
    "        vote = [movie['votes']]\n",
    "        if vote == []:\n",
    "            vote = [\"NA\"]\n",
    "        # get the rating of the movie\n",
    "        rating = [movie['rating']]\n",
    "        if rating == []:\n",
    "            rating = [\"NA\"]\n",
    "        movie_info_list = title + release_year + genre + key_words + plot + runtime + vote + rating\n",
    "        return movie_info_list\n",
    "    except:\n",
    "        print(\"Request Failed\")\n",
    "        return None"
   ]
  },
  {
   "cell_type": "markdown",
   "metadata": {},
   "source": [
    "### Scrape and put the result into a csv file\n"
   ]
  },
  {
   "cell_type": "code",
   "execution_count": null,
   "metadata": {},
   "outputs": [],
   "source": [
    "if __name__ == '__main__':\n",
    "    i = 0\n",
    "    with open('movie_info.csv', 'w', newline=\"\",encoding='utf-8') as csvfile:\n",
    "        csvwriter = csv.writer(csvfile, dialect=(\"excel\"))\n",
    "        csvwriter.writerow([\"title\", \"release year\", \"genre\", \"key words\" , \"plot\", 'run time /min', \"number of votes\" , \"rating\"])\n",
    "        while (i <= 199):\n",
    "            print(\"Page\" + str(i+1) + \" of movies\")\n",
    "            movie_list_url = generate_movie_list_link(i + 1)\n",
    "            movie_url_list =  get_movie_id(movie_list_url)\n",
    "            j = 0\n",
    "\n",
    "            while (j < 50):\n",
    "                print(\"Movie\" + str(i * 50 + j + 1) + \" information\")\n",
    "                l = get_movie_info(movie_url_list[j])\n",
    "                if(l is None):\n",
    "                     j += 1\n",
    "                     continue\n",
    "                else:\n",
    "                     csvwriter.writerow(l)\n",
    "                     j += 1\n",
    "            i += 1"
   ]
  },
  {
   "cell_type": "code",
   "execution_count": null,
   "metadata": {},
   "outputs": [],
   "source": []
  }
 ],
 "metadata": {
  "kernelspec": {
   "display_name": "Python 3",
   "language": "python",
   "name": "python3"
  },
  "language_info": {
   "codemirror_mode": {
    "name": "ipython",
    "version": 3
   },
   "file_extension": ".py",
   "mimetype": "text/x-python",
   "name": "python",
   "nbconvert_exporter": "python",
   "pygments_lexer": "ipython3",
   "version": "3.7.5"
  }
 },
 "nbformat": 4,
 "nbformat_minor": 4
}
