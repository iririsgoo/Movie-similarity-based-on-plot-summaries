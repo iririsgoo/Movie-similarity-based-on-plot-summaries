{
  "nbformat": 4,
  "nbformat_minor": 0,
  "metadata": {
    "colab": {
      "name": "IMDB Web scraping ",
      "provenance": []
    },
    "kernelspec": {
      "name": "python3",
      "display_name": "Python 3"
    }
  },
  "cells": [
    {
      "cell_type": "markdown",
      "metadata": {
        "id": "pvNaboNRVx2X",
        "colab_type": "text"
      },
      "source": [
        "# Note: Use GoogleColab. JupyterNotebook reports error\n",
        "**Import packages**\n"
      ]
    },
    {
      "cell_type": "code",
      "metadata": {
        "id": "0p_oz6CWVSJJ",
        "colab_type": "code",
        "colab": {
          "base_uri": "https://localhost:8080/",
          "height": 161
        },
        "outputId": "b9310d23-cdbc-4435-e485-702d49359400"
      },
      "source": [
        "! pip install imdbpy"
      ],
      "execution_count": 2,
      "outputs": [
        {
          "output_type": "stream",
          "text": [
            "Collecting imdbpy\n",
            "\u001b[?25l  Downloading https://files.pythonhosted.org/packages/70/87/928f9b8752dfafe8093488e03bd5d04b5dc260902f409303b0891cec86ef/IMDbPY-6.8-py3-none-any.whl (295kB)\n",
            "\r\u001b[K     |█                               | 10kB 16.0MB/s eta 0:00:01\r\u001b[K     |██▏                             | 20kB 1.8MB/s eta 0:00:01\r\u001b[K     |███▎                            | 30kB 2.2MB/s eta 0:00:01\r\u001b[K     |████▍                           | 40kB 1.7MB/s eta 0:00:01\r\u001b[K     |█████▌                          | 51kB 1.9MB/s eta 0:00:01\r\u001b[K     |██████▋                         | 61kB 2.2MB/s eta 0:00:01\r\u001b[K     |███████▊                        | 71kB 2.4MB/s eta 0:00:01\r\u001b[K     |████████▉                       | 81kB 2.6MB/s eta 0:00:01\r\u001b[K     |██████████                      | 92kB 3.0MB/s eta 0:00:01\r\u001b[K     |███████████                     | 102kB 2.8MB/s eta 0:00:01\r\u001b[K     |████████████▏                   | 112kB 2.8MB/s eta 0:00:01\r\u001b[K     |█████████████▎                  | 122kB 2.8MB/s eta 0:00:01\r\u001b[K     |██████████████▍                 | 133kB 2.8MB/s eta 0:00:01\r\u001b[K     |███████████████▌                | 143kB 2.8MB/s eta 0:00:01\r\u001b[K     |████████████████▋               | 153kB 2.8MB/s eta 0:00:01\r\u001b[K     |█████████████████▊              | 163kB 2.8MB/s eta 0:00:01\r\u001b[K     |██████████████████▉             | 174kB 2.8MB/s eta 0:00:01\r\u001b[K     |████████████████████            | 184kB 2.8MB/s eta 0:00:01\r\u001b[K     |█████████████████████           | 194kB 2.8MB/s eta 0:00:01\r\u001b[K     |██████████████████████▏         | 204kB 2.8MB/s eta 0:00:01\r\u001b[K     |███████████████████████▎        | 215kB 2.8MB/s eta 0:00:01\r\u001b[K     |████████████████████████▍       | 225kB 2.8MB/s eta 0:00:01\r\u001b[K     |█████████████████████████▌      | 235kB 2.8MB/s eta 0:00:01\r\u001b[K     |██████████████████████████▋     | 245kB 2.8MB/s eta 0:00:01\r\u001b[K     |███████████████████████████▊    | 256kB 2.8MB/s eta 0:00:01\r\u001b[K     |████████████████████████████▉   | 266kB 2.8MB/s eta 0:00:01\r\u001b[K     |██████████████████████████████  | 276kB 2.8MB/s eta 0:00:01\r\u001b[K     |███████████████████████████████ | 286kB 2.8MB/s eta 0:00:01\r\u001b[K     |████████████████████████████████| 296kB 2.8MB/s \n",
            "\u001b[?25hRequirement already satisfied: SQLAlchemy in /usr/local/lib/python3.6/dist-packages (from imdbpy) (1.3.13)\n",
            "Requirement already satisfied: lxml in /usr/local/lib/python3.6/dist-packages (from imdbpy) (4.2.6)\n",
            "Installing collected packages: imdbpy\n",
            "Successfully installed imdbpy-6.8\n"
          ],
          "name": "stdout"
        }
      ]
    },
    {
      "cell_type": "markdown",
      "metadata": {
        "id": "Fvoxslj-V4tc",
        "colab_type": "text"
      },
      "source": [
        "**Generate the url that we can get a list of movies**\n",
        "\n",
        "Recent 10 years: From 2009-01-01 to 2019-10-31"
      ]
    },
    {
      "cell_type": "code",
      "metadata": {
        "id": "CPLGCe93Vdcz",
        "colab_type": "code",
        "colab": {}
      },
      "source": [
        "import re\n",
        "import requests\n",
        "import time\n",
        "import csv\n",
        "from bs4 import BeautifulSoup\n",
        "from requests.exceptions import RequestException"
      ],
      "execution_count": 0,
      "outputs": []
    },
    {
      "cell_type": "code",
      "metadata": {
        "id": "S9EOxhimVda0",
        "colab_type": "code",
        "colab": {}
      },
      "source": [
        "def generate_movie_list_link(i):\n",
        "    movie_list_url = \"https://www.imdb.com/search/title/?title_type=tv_movie&release_date=2009-01-01,2019-10-31&sort=num_votes,desc&start=\"+str((i-1)*50+1)+\"&ref_=adv_nxt\"\n",
        "    return  movie_list_url"
      ],
      "execution_count": 0,
      "outputs": []
    },
    {
      "cell_type": "markdown",
      "metadata": {
        "id": "2u84yKASV61W",
        "colab_type": "text"
      },
      "source": [
        "**Get the id of each movie in the list**"
      ]
    },
    {
      "cell_type": "code",
      "metadata": {
        "id": "SLMa2oj2VdZy",
        "colab_type": "code",
        "colab": {}
      },
      "source": [
        "def get_movie_id(url):\n",
        "    try:\n",
        "        response = requests.get(url)\n",
        "        if response.status_code == 200:\n",
        "            html = response.text\n",
        "            soup = BeautifulSoup(html,'html.parser')\n",
        "            movies = soup.select('.lister-item-content')\n",
        "            movie_id_list = [[0] * 1 for j in range(50)]\n",
        "            i = 0\n",
        "            for movie in movies:\n",
        "                header = movie.select_one('.lister-item-header')\n",
        "                movie_link = header.select_one('a')['href']                     \n",
        "                id_pattern = re.compile(r'(?<=tt)\\d+(?=/?)')\n",
        "                movie_id = int(id_pattern.search(movie_link).group())           #imdb id\n",
        "                \n",
        "                movie_id_list[i] = movie_id\n",
        "                \n",
        "                i += 1\n",
        "                \n",
        "                #print(i,movie_id,movie_reviews_url)\n",
        "                #time.sleep(1)\n",
        "            return movie_id_list\n",
        "        else:\n",
        "            print(\"Error when request URL\")\n",
        "    except RequestException:\n",
        "        print(\"Request Failed\")\n",
        "        return None"
      ],
      "execution_count": 0,
      "outputs": []
    },
    {
      "cell_type": "markdown",
      "metadata": {
        "id": "QeUdSjnJWDap",
        "colab_type": "text"
      },
      "source": [
        "**Get information for each movie**"
      ]
    },
    {
      "cell_type": "code",
      "metadata": {
        "id": "NvotOVmXVlul",
        "colab_type": "code",
        "colab": {}
      },
      "source": [
        "from imdb import IMDb\n",
        "\n",
        "def get_movie_info(movie_id):\n",
        "    # create an instance of the IMDb class\n",
        "    ia = IMDb()\n",
        "\n",
        "    # get a movie\n",
        "    movie = ia.get_movie(movie_id)\n",
        "    movie_key_words = ia.get_movie(movie_id, info = 'keywords')\n",
        "    try:\n",
        "        # get the names of the movie\n",
        "        title = [movie['title']]\n",
        "    \n",
        "        if title == []:\n",
        "            title = [\"NA\"]\n",
        "        \n",
        "        # get the release year of the movie\n",
        "        release_year = [movie['year']]\n",
        "    \n",
        "        if release_year == []:\n",
        "            release_year = [\"NA\"]\n",
        "\n",
        "        # get the genres of the movie\n",
        "        genre = [\"|\".join([genres for genres in movie['genres']])]\n",
        "    \n",
        "        if genre == []:\n",
        "            genre = [\"NA\"]\n",
        "            \n",
        "        # get the key words of the movie\n",
        "        key_words = [\"|\".join([key_word for key_word in movie_key_words['keywords']])]\n",
        "    \n",
        "        if key_words == []:\n",
        "            key_words = [\"NA\"]\n",
        "    \n",
        "        # get the plot of the movie\n",
        "        plot = [plot.split(\"::\", 1)[0] for plot in movie.get('plot')]\n",
        "        plot = [plot[0]]\n",
        "    \n",
        "        if plot == []:\n",
        "            plot = [\"NA\"]\n",
        "            \n",
        "        # get the run time of the movie\n",
        "        runtime = movie['runtimes']\n",
        "        \n",
        "        if runtime == []:\n",
        "            runtime = [\"NA\"]\n",
        "    \n",
        "        # get the votes of the movie\n",
        "        vote = [movie['votes']]\n",
        "    \n",
        "        if vote == []:\n",
        "            vote = [\"NA\"]\n",
        "    \n",
        "        # get the rating of the movie\n",
        "        rating = [movie['rating']]\n",
        "    \n",
        "        if rating == []:\n",
        "            rating = [\"NA\"]\n",
        "   \n",
        "        movie_info_list = title + release_year + genre + key_words + plot + runtime + vote + rating\n",
        "    \n",
        "        return movie_info_list\n",
        "    \n",
        "    \n",
        "    except:\n",
        "        print(\"Request Failed\")\n",
        "        return None"
      ],
      "execution_count": 0,
      "outputs": []
    },
    {
      "cell_type": "markdown",
      "metadata": {
        "id": "Xj-WkPZTWHyy",
        "colab_type": "text"
      },
      "source": [
        "**Scrape and put the result into a csv file**"
      ]
    },
    {
      "cell_type": "code",
      "metadata": {
        "id": "hRYrq9fSVlsf",
        "colab_type": "code",
        "colab": {
          "base_uri": "https://localhost:8080/",
          "height": 1000
        },
        "outputId": "a768c2e8-4f62-48ab-8268-7955fbc83cf9"
      },
      "source": [
        "if __name__ == '__main__':\n",
        "    i = 0\n",
        "    with open('movie_info.csv', 'w', newline=\"\",encoding='utf-8') as csvfile:\n",
        "        csvwriter = csv.writer(csvfile, dialect=(\"excel\"))\n",
        "        csvwriter.writerow([\"title\", \"release year\", \"genre\", \"key words\" , \"plot\", 'run time /min', \"number of votes\" , \"rating\"])\n",
        "        while (i <= 199):\n",
        "            print(\"Page\" + str(i+1) + \" of movies\")\n",
        "            movie_list_url = generate_movie_list_link(i + 1)\n",
        "            movie_url_list =  get_movie_id(movie_list_url)\n",
        "            j = 0\n",
        "\n",
        "            while (j < 50):\n",
        "                print(\"Movie\" + str(i * 50 + j + 1) + \" information\")\n",
        "                l = get_movie_info(movie_url_list[j])\n",
        "                if(l is None):\n",
        "                     j += 1\n",
        "                     continue\n",
        "                else:\n",
        "                     csvwriter.writerow(l)\n",
        "                     j += 1\n",
        "            i += 1"
      ],
      "execution_count": 0,
      "outputs": [
        {
          "output_type": "stream",
          "text": [
            "Page1 of movies\n",
            "Movie1 information\n",
            "Movie2 information\n",
            "Movie3 information\n",
            "Movie4 information\n",
            "Movie5 information\n",
            "Movie6 information\n",
            "Movie7 information\n",
            "Movie8 information\n",
            "Movie9 information\n",
            "Movie10 information\n",
            "Movie11 information\n",
            "Movie12 information\n",
            "Movie13 information\n",
            "Movie14 information\n",
            "Movie15 information\n",
            "Movie16 information\n",
            "Movie17 information\n",
            "Movie18 information\n",
            "Movie19 information\n",
            "Movie20 information\n",
            "Movie21 information\n",
            "Movie22 information\n",
            "Movie23 information\n",
            "Movie24 information\n",
            "Movie25 information\n",
            "Movie26 information\n",
            "Movie27 information\n",
            "Movie28 information\n",
            "Movie29 information\n",
            "Movie30 information\n",
            "Movie31 information\n",
            "Movie32 information\n",
            "Movie33 information\n",
            "Movie34 information\n",
            "Movie35 information\n",
            "Movie36 information\n",
            "Movie37 information\n",
            "Movie38 information\n",
            "Movie39 information\n",
            "Movie40 information\n",
            "Movie41 information\n",
            "Movie42 information\n",
            "Movie43 information\n",
            "Movie44 information\n",
            "Movie45 information\n",
            "Movie46 information\n",
            "Movie47 information\n",
            "Movie48 information\n",
            "Movie49 information\n",
            "Movie50 information\n",
            "Page2 of movies\n",
            "Movie51 information\n",
            "Movie52 information\n",
            "Movie53 information\n",
            "Request Failed\n",
            "Movie54 information\n",
            "Movie55 information\n",
            "Movie56 information\n",
            "Movie57 information\n",
            "Movie58 information\n",
            "Movie59 information\n",
            "Movie60 information\n",
            "Movie61 information\n",
            "Movie62 information\n",
            "Movie63 information\n",
            "Movie64 information\n",
            "Movie65 information\n",
            "Movie66 information\n",
            "Movie67 information\n",
            "Movie68 information\n",
            "Movie69 information\n",
            "Movie70 information\n",
            "Movie71 information\n",
            "Movie72 information\n",
            "Movie73 information\n",
            "Movie74 information\n",
            "Movie75 information\n",
            "Movie76 information\n",
            "Movie77 information\n",
            "Request Failed\n",
            "Movie78 information\n",
            "Movie79 information\n",
            "Movie80 information\n",
            "Movie81 information\n",
            "Movie82 information\n",
            "Movie83 information\n",
            "Movie84 information\n",
            "Movie85 information\n",
            "Movie86 information\n",
            "Movie87 information\n",
            "Movie88 information\n",
            "Movie89 information\n",
            "Movie90 information\n",
            "Movie91 information\n",
            "Movie92 information\n",
            "Movie93 information\n",
            "Request Failed\n",
            "Movie94 information\n",
            "Movie95 information\n",
            "Movie96 information\n",
            "Movie97 information\n",
            "Movie98 information\n",
            "Movie99 information\n",
            "Movie100 information\n",
            "Page3 of movies\n",
            "Movie101 information\n",
            "Movie102 information\n",
            "Request Failed\n",
            "Movie103 information\n",
            "Movie104 information\n",
            "Movie105 information\n",
            "Movie106 information\n",
            "Movie107 information\n",
            "Movie108 information\n",
            "Movie109 information\n",
            "Movie110 information\n",
            "Movie111 information\n",
            "Movie112 information\n",
            "Movie113 information\n",
            "Movie114 information\n",
            "Movie115 information\n",
            "Movie116 information\n",
            "Movie117 information\n",
            "Movie118 information\n",
            "Movie119 information\n",
            "Movie120 information\n",
            "Movie121 information\n",
            "Movie122 information\n",
            "Movie123 information\n",
            "Movie124 information\n",
            "Movie125 information\n",
            "Movie126 information\n",
            "Movie127 information\n",
            "Movie128 information\n",
            "Movie129 information\n",
            "Movie130 information\n",
            "Movie131 information\n",
            "Movie132 information\n",
            "Movie133 information\n",
            "Movie134 information\n",
            "Movie135 information\n",
            "Movie136 information\n",
            "Movie137 information\n",
            "Movie138 information\n",
            "Movie139 information\n",
            "Movie140 information\n",
            "Movie141 information\n",
            "Movie142 information\n"
          ],
          "name": "stdout"
        }
      ]
    }
  ]
}
